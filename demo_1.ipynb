{
 "cells": [
  {
   "cell_type": "markdown",
   "metadata": {},
   "source": [
    "# Demo 1"
   ]
  },
  {
   "cell_type": "code",
   "execution_count": null,
   "metadata": {},
   "outputs": [],
   "source": [
    "import rttmreader as reader\n",
    "import rttmanalyzer as analyzer\n",
    "\n",
    "\n",
    "# -------------------------------------------\n",
    "# Example analysis of the rttm file example1\n",
    "# -------------------------------------------\n",
    "\n",
    "# The rttmreader function reads the rttm file and returns a dictionary with the data\n",
    "rttm_file_1 = reader.rttmreader(\"data/example1.rttm\")\n",
    "# The analyze_rttm function returns a dictionary with the analyzed data and a pandas dataframe with the results\n",
    "datadict, df = analyzer.analyze_rttm(rttm_file_1)\n",
    "\n",
    "# print all columns\n",
    "display(df)\n",
    "# print only selected columns\n",
    "display(df[['Speaker_Ratio', 'Average_Segment_Length', 'Number_of_Turns']])\n",
    "\n",
    "# -------------------------------------------\n",
    "# TODO: Analyze other files\n",
    "# -------------------------------------------\n",
    "\n",
    "# rttm_file_2 = reader.rttmreader(\"data/example2.rttm\")\n",
    "# rttm_file_3 = reader.rttmreader(\"data/example3.rttm\")\n",
    "# rttm_file_4 = reader.rttmreader(\"data/example4.rttm\")\n"
   ]
  }
 ],
 "metadata": {
  "kernelspec": {
   "display_name": ".venv",
   "language": "python",
   "name": "python3"
  },
  "language_info": {
   "codemirror_mode": {
    "name": "ipython",
    "version": 3
   },
   "file_extension": ".py",
   "mimetype": "text/x-python",
   "name": "python",
   "nbconvert_exporter": "python",
   "pygments_lexer": "ipython3",
   "version": "3.12.3"
  }
 },
 "nbformat": 4,
 "nbformat_minor": 2
}
