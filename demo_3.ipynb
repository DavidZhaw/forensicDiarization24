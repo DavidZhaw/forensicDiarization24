{
 "cells": [
  {
   "cell_type": "markdown",
   "metadata": {},
   "source": [
    "# Demo 3"
   ]
  },
  {
   "cell_type": "code",
   "execution_count": null,
   "metadata": {},
   "outputs": [],
   "source": [
    "import rttmreader as reader\n",
    "import rttmanalyzer as analyzer\n",
    "\n",
    "\n",
    "# -------------------------------------------\n",
    "# Example analysis of the rttm file example1\n",
    "# -------------------------------------------\n",
    "\n",
    "# read the rttm file and analyze the turns\n",
    "rttm_file_1 = reader.rttmreader(\"data/example1.rttm\")\n",
    "turns = analyzer.analyze_turns(rttm_file_1)\n",
    "turn_counts = analyzer.count_unique_sequences(turns)\n",
    "nodes, turns_matrix = analyzer.turns_to_matrix(turns)\n",
    "\n",
    "# plot the results\n",
    "analyzer.plot_sankey(turn_counts, threshold=1)\n",
    "analyzer.plot_turns_interaction_matrix(nodes, turns_matrix)\n",
    "\n",
    "# -------------------------------------------\n",
    "# TODO: Analyze other files\n",
    "# -------------------------------------------\n",
    "\n",
    "# rttm_file_2 = reader.rttmreader(\"data/example2.rttm\")\n",
    "# rttm_file_3 = reader.rttmreader(\"data/example3.rttm\")\n",
    "# rttm_file_4 = reader.rttmreader(\"data/example4.rttm\")"
   ]
  }
 ],
 "metadata": {
  "kernelspec": {
   "display_name": ".venv",
   "language": "python",
   "name": "python3"
  },
  "language_info": {
   "codemirror_mode": {
    "name": "ipython",
    "version": 3
   },
   "file_extension": ".py",
   "mimetype": "text/x-python",
   "name": "python",
   "nbconvert_exporter": "python",
   "pygments_lexer": "ipython3",
   "version": "3.12.3"
  }
 },
 "nbformat": 4,
 "nbformat_minor": 2
}
