{
 "cells": [
  {
   "cell_type": "markdown",
   "metadata": {},
   "source": [
    "# Demo 2"
   ]
  },
  {
   "cell_type": "code",
   "execution_count": null,
   "metadata": {},
   "outputs": [],
   "source": [
    "import rttmreader as reader\n",
    "import rttmanalyzer as analyzer\n",
    "\n",
    "\n",
    "# -------------------------------------------\n",
    "# Example analysis of the rttm file example1\n",
    "# -------------------------------------------\n",
    "\n",
    "# read the rttm file\n",
    "rttm_file_1 = reader.rttmreader(\"data/example1.rttm\")\n",
    "# analyze the rttm file divided into segments of 60 second\n",
    "intervals, df = analyzer.analyze_rttm(rttm_file_1, interval_length=60)\n",
    "\n",
    "# plot analysis results\n",
    "analyzer.speaker_segment_graph(rttm_file_1)\n",
    "analyzer.plot_all_speakers(df, 'Number_of_Turns', interval_range=None, plot_type='bar', stacked=True)\n",
    "analyzer.plot_all_speakers(df, 'Speaker_Ratio', interval_range=None, plot_type='stream')\n",
    "analyzer.plot_all_speakers(df, 'Interruption_Frequency', interval_range=None, plot_type='bar')\n",
    "\n",
    "# -------------------------------------------\n",
    "# TODO: Analyze other files\n",
    "# -------------------------------------------\n",
    "\n",
    "# rttm_file_2 = reader.rttmreader(\"data/example2.rttm\")\n",
    "# rttm_file_3 = reader.rttmreader(\"data/example3.rttm\")\n",
    "# rttm_file_4 = reader.rttmreader(\"data/example4.rttm\")"
   ]
  }
 ],
 "metadata": {
  "kernelspec": {
   "display_name": ".venv",
   "language": "python",
   "name": "python3"
  },
  "language_info": {
   "codemirror_mode": {
    "name": "ipython",
    "version": 3
   },
   "file_extension": ".py",
   "mimetype": "text/x-python",
   "name": "python",
   "nbconvert_exporter": "python",
   "pygments_lexer": "ipython3",
   "version": "3.12.3"
  }
 },
 "nbformat": 4,
 "nbformat_minor": 2
}
